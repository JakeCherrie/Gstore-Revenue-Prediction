{
 "cells": [
  {
   "cell_type": "markdown",
   "metadata": {},
   "source": [
    "### 2.0 Google Analytics Customer Revenue Prediction"
   ]
  },
  {
   "cell_type": "markdown",
   "metadata": {},
   "source": [
    "##### Importing packages"
   ]
  },
  {
   "cell_type": "code",
   "execution_count": null,
   "metadata": {},
   "outputs": [],
   "source": [
    "# File system manangement\n",
    "import os\n",
    "# Suppress warnings\n",
    "import warnings\n",
    "warnings.filterwarnings('ignore')\n",
    "# Numpy and pandas for data manipulation\n",
    "import numpy as np\n",
    "import pandas as pd\n",
    "# Importing random for random selections\n",
    "import random\n",
    "# Json for importing JSON columns\n",
    "import json as json\n",
    "# Pandas io json normalizing\n",
    "from pandas.io.json import json_normalize\n",
    "# Scipy stats for statistical analysis\n",
    "import scipy.stats as stats\n",
    "# sklearn preprocessing for dealing with categorical features\n",
    "from sklearn import preprocessing\n",
    "from sklearn.preprocessing import LabelEncoder\n",
    "# to use for woe binning for features with a large number of categories\n",
    "import scorecardpy as sc\n",
    "# Light gradient boost classifier\n",
    "from lightgbm import LGBMRegressor\n",
    "# Sklearn Inputing data spliting method\n",
    "from sklearn.model_selection import KFold, StratifiedKFold, GroupKFold\n",
    "# Sklearn importing auc as measurement metric\n",
    "from sklearn.metrics import mean_squared_error\n",
    "# Gc memory managment\n",
    "import gc\n",
    "# Matplotlib pyplot for plotting\n",
    "import matplotlib.pyplot as plt\n",
    "# Seabourne for visualization\n",
    "import seaborn as sns\n",
    "sns.set_style('white')"
   ]
  },
  {
   "cell_type": "markdown",
   "metadata": {},
   "source": [
    "#### Importing data"
   ]
  },
  {
   "cell_type": "code",
   "execution_count": null,
   "metadata": {},
   "outputs": [],
   "source": [
    "# Setting up package to import data converting JSON columns into individual features\n",
    "\n",
    "# https://www.kaggle.com/julian3833/1-quick-start-read-csv-and-flatten-json-fields\n",
    "JSON_COLUMNS = ['device', 'geoNetwork', 'totals', 'trafficSource']\n",
    "def load_df(csv_path):\n",
    "    df = pd.read_csv(csv_path, converters={column: json.loads for column in JSON_COLUMNS}, dtype={'fullVisitorId': 'str'})\n",
    "    for column in JSON_COLUMNS:\n",
    "        column_as_df = json_normalize(df[column])\n",
    "        column_as_df.columns = [f\"{column}.{subcolumn}\" for subcolumn in column_as_df.columns]\n",
    "        df = df.drop(column, axis=1).merge(column_as_df, right_index=True, left_index=True)\n",
    "    return df"
   ]
  },
  {
   "cell_type": "code",
   "execution_count": null,
   "metadata": {},
   "outputs": [],
   "source": [
    "# Seeting the input and output directory\n",
    "os.chdir('C:/Users/Jake Cherrie/Documents/Projects/Gstore-Revenue-Prediction')\n",
    "# Viewing the contained datasets\n",
    "os.listdir('C:/Users/Jake Cherrie/Data Sets/Gstore Revenue Prediction')"
   ]
  },
  {
   "cell_type": "code",
   "execution_count": null,
   "metadata": {},
   "outputs": [],
   "source": [
    "# Importing the data\n",
    "trn_df = load_df('C:/Users/Jake Cherrie/Data Sets/Gstore Revenue Prediction/train.csv')\n",
    "tst_df = load_df('C:/Users/Jake Cherrie/Data Sets/Gstore Revenue Prediction/test.csv')"
   ]
  }
 ],
 "metadata": {
  "kernelspec": {
   "display_name": "Python 3",
   "language": "python",
   "name": "python3"
  },
  "language_info": {
   "codemirror_mode": {
    "name": "ipython",
    "version": 3
   },
   "file_extension": ".py",
   "mimetype": "text/x-python",
   "name": "python",
   "nbconvert_exporter": "python",
   "pygments_lexer": "ipython3",
   "version": "3.6.5"
  }
 },
 "nbformat": 4,
 "nbformat_minor": 2
}
