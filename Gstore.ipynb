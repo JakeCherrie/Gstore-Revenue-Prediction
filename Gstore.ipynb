{
 "cells": [
  {
   "cell_type": "markdown",
   "metadata": {},
   "source": [
    "## Google Analytics Customer Revenue Prediction"
   ]
  },
  {
   "cell_type": "markdown",
   "metadata": {},
   "source": [
    "### Importing packages"
   ]
  },
  {
   "cell_type": "code",
   "execution_count": 2,
   "metadata": {},
   "outputs": [],
   "source": [
    "# File system manangement\n",
    "import os\n",
    "# Suppress warnings\n",
    "import warnings\n",
    "warnings.filterwarnings('ignore')\n",
    "# Numpy and pandas for data manipulation\n",
    "import numpy as np\n",
    "import pandas as pd\n",
    "pd.set_option('display.max_columns', 300)\n",
    "# Importing random for random selections\n",
    "import random\n",
    "# Json for importing JSON columns\n",
    "import json as json\n",
    "# Pandas io json normalizing\n",
    "from pandas.io.json import json_normalize\n",
    "# Scipy stats for statistical analysis\n",
    "import scipy.stats as stats\n",
    "# sklearn preprocessing for dealing with categorical features\n",
    "from sklearn import preprocessing\n",
    "from sklearn.preprocessing import LabelEncoder\n",
    "# to use for woe binning for features with a large number of categories\n",
    "import scorecardpy as sc\n",
    "# Light gradient boost classifier\n",
    "from lightgbm import LGBMRegressor\n",
    "# Sklearn Inputing data spliting method\n",
    "from sklearn.model_selection import KFold, StratifiedKFold, GroupKFold\n",
    "# Sklearn importing auc as measurement metric\n",
    "from sklearn.metrics import mean_squared_error\n",
    "# Gc memory managment\n",
    "import gc\n",
    "# Matplotlib pyplot for plotting\n",
    "import matplotlib.pyplot as plt\n",
    "# Seabourne for visualization\n",
    "import seaborn as sns\n",
    "sns.set_style('white')"
   ]
  },
  {
   "cell_type": "markdown",
   "metadata": {},
   "source": [
    "### Importing data"
   ]
  },
  {
   "cell_type": "code",
   "execution_count": null,
   "metadata": {},
   "outputs": [],
   "source": [
    "# # Setting up package to import data converting JSON columns into individual features\n",
    "# # https://www.kaggle.com/julian3833/1-quick-start-read-csv-and-flatten-json-fields\n",
    "# JSON_COLUMNS = ['device', 'geoNetwork', 'totals', 'trafficSource']\n",
    "# def load_df(csv_path):\n",
    "#     df = pd.read_csv(csv_path, converters={column: json.loads for column in JSON_COLUMNS}\\\n",
    "#                      , dtype={'fullVisitorId': 'str', 'visitStartTime': 'str', 'date': 'str'})\n",
    "#     for column in JSON_COLUMNS:\n",
    "#         column_as_df = json_normalize(df[column])\n",
    "#         column_as_df.columns = [f\"{column}.{subcolumn}\" for subcolumn in column_as_df.columns]\n",
    "#         df = df.drop(column, axis=1).merge(column_as_df, right_index=True, left_index=True)\n",
    "#     return df"
   ]
  },
  {
   "cell_type": "code",
   "execution_count": null,
   "metadata": {},
   "outputs": [],
   "source": [
    "# # Seeting the input and output directory\n",
    "# os.chdir('C:/Users/Jake Cherrie/Documents/Projects/Gstore Revenue Prediction')\n",
    "# # Viewing the contained datasets\n",
    "# os.listdir('C:/Users/Jake Cherrie/Data Sets/Gstore Revenue Prediction')"
   ]
  },
  {
   "cell_type": "code",
   "execution_count": null,
   "metadata": {},
   "outputs": [],
   "source": [
    "# # Importing the training data\n",
    "# trn_df = load_df('C:/Users/Jake Cherrie/Data Sets/Gstore Revenue Prediction/train.csv')\n",
    "# trn_df['totals.transactionRevenue'].fillna(0, inplace = True)"
   ]
  },
  {
   "cell_type": "code",
   "execution_count": null,
   "metadata": {},
   "outputs": [],
   "source": [
    "# # Droping features with no information\n",
    "# drp_cols = [col for col in trn_df.columns if trn_df[col].nunique() == 1 & trn_df[col].notnull().values.all()]\n",
    "# trn_df = trn_df.drop(columns=drp_cols)\n",
    "# # Dropping duplicate feature visitStartTime is the same as visitId\n",
    "# trn_df = trn_df.drop(columns='visitId')\n",
    "# # Dropping capaign code as there is ony 1 non-null entry\n",
    "# trn_df = trn_df.drop(columns='trafficSource.campaignCode')\n",
    "# # Noticed that for the training set channelGrouping contains all the information in trafficSource.medium so droping trafficSource.medium\n",
    "# trn_df = trn_df.drop(columns='trafficSource.medium')"
   ]
  },
  {
   "cell_type": "code",
   "execution_count": null,
   "metadata": {},
   "outputs": [],
   "source": [
    "# # Saving memory by shortning ints and floats\n",
    "# def size_reduction(df):\n",
    "#     int_col     = df.select_dtypes(include=[np.int64]).columns\n",
    "#     flt_col     = df.select_dtypes(include=[np.float64]).columns \n",
    "#     df[int_col] = df[int_col].astype(np.int32)\n",
    "#     df[flt_col] = df[flt_col].astype(np.float32)  \n",
    "# size_reduction(trn_df)\n",
    "# gc.collect()"
   ]
  },
  {
   "cell_type": "code",
   "execution_count": null,
   "metadata": {},
   "outputs": [],
   "source": [
    "# trn_df.describe(include='all')"
   ]
  },
  {
   "cell_type": "code",
   "execution_count": null,
   "metadata": {},
   "outputs": [],
   "source": [
    "## Importing the testing data\n",
    "# tst_df = load_df('C:/Users/Jake Cherrie/Data Sets/Gstore Revenue Prediction/test.csv')"
   ]
  },
  {
   "cell_type": "code",
   "execution_count": null,
   "metadata": {},
   "outputs": [],
   "source": [
    "## Quick view of training data\n",
    "# tst_df.info()"
   ]
  },
  {
   "cell_type": "code",
   "execution_count": null,
   "metadata": {},
   "outputs": [],
   "source": [
    "# # Droping features with no information\n",
    "# drp_cols = [col for col in tst_df.columns if tst_df[col].nunique() == 1 & tst_df[col].notnull().values.all()]\n",
    "# tst_df = tst_df.drop(columns=drp_cols)\n",
    "# # Dropping duplicate feature visitStartTime is the same as visitId\n",
    "# tst_df = tst_df.drop(columns='visitId')\n",
    "# tst_df = tst_df.drop(columns='trafficSource.medium')\n",
    "\n",
    "# size_reduction(tst_df)\n",
    "# gc.collect()"
   ]
  },
  {
   "cell_type": "code",
   "execution_count": null,
   "metadata": {},
   "outputs": [],
   "source": [
    "# tst_df.describe(include='all')"
   ]
  },
  {
   "cell_type": "markdown",
   "metadata": {},
   "source": [
    "### Saving Data for Quick Loads and Debugging"
   ]
  },
  {
   "cell_type": "code",
   "execution_count": null,
   "metadata": {},
   "outputs": [],
   "source": [
    "# trn_df.to_csv('C:/Users/Jake Cherrie/Data Sets/Gstore Revenue Prediction/trn.csv', index=False)\n",
    "# tst_df.to_csv('C:/Users/Jake Cherrie/Data Sets/Gstore Revenue Prediction/tst.csv', index=False)"
   ]
  },
  {
   "cell_type": "code",
   "execution_count": 3,
   "metadata": {},
   "outputs": [
    {
     "data": {
      "text/plain": [
       "7"
      ]
     },
     "execution_count": 3,
     "metadata": {},
     "output_type": "execute_result"
    }
   ],
   "source": [
    "trn = pd.read_csv('C:/Users/Jake Cherrie/Data Sets/Gstore Revenue Prediction/trn.csv'\\\n",
    "           , dtype={'fullVisitorId': 'str', 'visitStartTime': 'str', 'date': 'str'}, nrows=None)\n",
    "tst = pd.read_csv('C:/Users/Jake Cherrie/Data Sets/Gstore Revenue Prediction/tst.csv'\\\n",
    "           , dtype={'fullVisitorId': 'str', 'visitStartTime': 'str', 'date': 'str'}, nrows=None)\n",
    "gc.collect()"
   ]
  },
  {
   "cell_type": "code",
   "execution_count": 4,
   "metadata": {},
   "outputs": [],
   "source": [
    "# Setting the index as fullVisitorId\n",
    "trn.set_index('fullVisitorId', inplace=True)\n",
    "tst.set_index('fullVisitorId', inplace=True)"
   ]
  },
  {
   "cell_type": "code",
   "execution_count": 5,
   "metadata": {},
   "outputs": [],
   "source": [
    "trn_df = trn.copy()\n",
    "tst_df = tst.copy()"
   ]
  },
  {
   "cell_type": "code",
   "execution_count": 105,
   "metadata": {},
   "outputs": [],
   "source": [
    "# Setting up debugging datasets\n",
    "random.seed(42)\n",
    "dbg_trn = random.sample(list(pd.Series(trn.index.values).unique()),300000)\n",
    "dbg_tst = random.sample(list(pd.Series(tst.index.values).unique()),200000)\n",
    "trn_df = trn.loc[dbg_trn]\n",
    "tst_df = tst.loc[dbg_tst]"
   ]
  },
  {
   "cell_type": "markdown",
   "metadata": {},
   "source": [
    "### Grouping Features"
   ]
  },
  {
   "cell_type": "code",
   "execution_count": 106,
   "metadata": {},
   "outputs": [],
   "source": [
    "# Applying the simple bins to the data frame\n",
    "def deviceBrowser(x):\n",
    "    if x in ['Chrome', 'Safari', 'Firefox', 'Safari (in-app)', 'Amazon Silk', 'Opera', 'Android Webview']:\n",
    "        return x\n",
    "    elif x in ['Internet Explorer', 'Edge']:\n",
    "        return 'Microsoft Browser'\n",
    "    else:\n",
    "        return 'Other'\n",
    "trn_df['device.browser'] = trn_df['device.browser'].map(lambda x:deviceBrowser(x))\n",
    "tst_df['device.browser'] = tst_df['device.browser'].map(lambda x:deviceBrowser(x))"
   ]
  },
  {
   "cell_type": "code",
   "execution_count": 107,
   "metadata": {},
   "outputs": [],
   "source": [
    "# Applying the simple bins to the data frame\n",
    "def deviceOperatingSystem(x):\n",
    "    if x in ['Android', 'Chrome OS', 'Linux', 'Macintosh', 'Windows', 'iOS', '(not set)', 'Samsung']:\n",
    "        return x\n",
    "    elif x in ['BlackBerry', 'Windows Phone']:\n",
    "        return 'Other Phone'\n",
    "    elif x in ['Xbox', 'Playstation Vita', 'Nintendo WiiU', 'Nintendo 3DS']:\n",
    "        return 'Gaming'\n",
    "    else:\n",
    "        return 'Other'\n",
    "trn_df['device.operatingSystem'] = trn_df['device.operatingSystem'].map(lambda x:deviceOperatingSystem(x))\n",
    "tst_df['device.operatingSystem'] = tst_df['device.operatingSystem'].map(lambda x:deviceOperatingSystem(x))"
   ]
  },
  {
   "cell_type": "code",
   "execution_count": 108,
   "metadata": {},
   "outputs": [],
   "source": [
    "# Applying the simple bins to the data frame\n",
    "def trafficSourceAdContent(x):\n",
    "    if pd.isnull(x):\n",
    "        return 'NA'\n",
    "    elif 'Google' in x:\n",
    "        return 'google'\n",
    "    elif 'Ad' in x.lower():\n",
    "        return 'Ad'\n",
    "    elif 'discount' in x:\n",
    "        return 'Discount'\n",
    "    else:\n",
    "        return 'Other'\n",
    "trn_df['trafficSource.adContent'] = trn_df['trafficSource.adContent'].map(lambda x:trafficSourceAdContent(x))\n",
    "tst_df['trafficSource.adContent'] = tst_df['trafficSource.adContent'].map(lambda x:trafficSourceAdContent(x))"
   ]
  },
  {
   "cell_type": "code",
   "execution_count": 109,
   "metadata": {},
   "outputs": [],
   "source": [
    "# Applying groups (makes the cv worse)\n",
    "def trafficSourceCampaign(x):\n",
    "    if '(not set)' in x:\n",
    "        return '(not set)'\n",
    "    elif 'AW' in x:\n",
    "        return 'AW'\n",
    "    elif 'Data Share Promo' in x:\n",
    "        return 'Data Share Promo'\n",
    "    elif ('google+redesign' in x) or ('google + redesign' in x):\n",
    "        return 'redesign'\n",
    "    else:\n",
    "        return 'Other'\n",
    "trn_df['trafficSource.campaign'] = trn_df['trafficSource.campaign'].map(lambda x:trafficSourceCampaign(x))\n",
    "tst_df['trafficSource.campaign'] = tst_df['trafficSource.campaign'].map(lambda x:trafficSourceCampaign(x))"
   ]
  },
  {
   "cell_type": "code",
   "execution_count": 110,
   "metadata": {},
   "outputs": [],
   "source": [
    "# Applying bins (makes it worse then none...)\n",
    "def trafficSourceKeyword(x):\n",
    "    if pd.isnull(x):\n",
    "        return 'NA'\n",
    "    elif '6qehscssdk0z36ri' in x:\n",
    "        return '???'\n",
    "    elif '(not provided)' in x:\n",
    "        return '(not provided)'\n",
    "    elif (('google' in x) and ('merchandise' in x)) or (('google' in x) and ('merch' in x))\\\n",
    "      or (('google' in x) and ('stickers' in x))    or (('google' in x) and ('shirt' in x))\\\n",
    "      or (('google' in x) and ('swag' in x))        or (('google' in x) and ('gear' in x))\\\n",
    "      or (('google' in x) and ('accessories' in x)):\n",
    "        return 'Google Merch'\n",
    "    else:\n",
    "        return 'Other'\n",
    "trn_df['trafficSource.keyword'] = trn_df['trafficSource.keyword'].map(lambda x:trafficSourceKeyword(str(x).lower()))\n",
    "tst_df['trafficSource.keyword'] = tst_df['trafficSource.keyword'].map(lambda x:trafficSourceKeyword(str(x).lower()))"
   ]
  },
  {
   "cell_type": "code",
   "execution_count": 111,
   "metadata": {},
   "outputs": [],
   "source": [
    "# Applying bins (makes it worse then none...)\n",
    "def trafficSourceSource(x):\n",
    "    if x in ['google', 'mall.googleplex.com', '(direct)', 'dfa', 'dealspotr.com']:\n",
    "        return x\n",
    "    elif x in ['youtube.com', 'Partners']:\n",
    "        return 'Partners'\n",
    "    elif 'google' in str(x).lower():\n",
    "        return 'Other Google'\n",
    "    else:\n",
    "        return 'Other'\n",
    "trn_df['trafficSource.source'] = trn_df['trafficSource.source'].map(lambda x:trafficSourceSource(x))\n",
    "tst_df['trafficSource.source'] = tst_df['trafficSource.source'].map(lambda x:trafficSourceSource(x))"
   ]
  },
  {
   "cell_type": "markdown",
   "metadata": {},
   "source": [
    "### Creating New Combination Features"
   ]
  },
  {
   "cell_type": "code",
   "execution_count": 112,
   "metadata": {},
   "outputs": [],
   "source": [
    "# Setting up a has revenue flag\n",
    "trn_df['hasRevenue'] = (trn_df['totals.transactionRevenue'] > 0).astype(int)\n",
    "trn_df['logRevenue'] = np.log1p(trn_df['totals.transactionRevenue'])"
   ]
  },
  {
   "cell_type": "code",
   "execution_count": 56,
   "metadata": {},
   "outputs": [
    {
     "data": {
      "text/plain": [
       "array(['Other', '(not provided)', '???', 'Google Merch'], dtype=object)"
      ]
     },
     "execution_count": 56,
     "metadata": {},
     "output_type": "execute_result"
    }
   ],
   "source": [
    "tst_df['trafficSource.keyword'].unique()"
   ]
  },
  {
   "cell_type": "code",
   "execution_count": 57,
   "metadata": {},
   "outputs": [
    {
     "data": {
      "text/html": [
       "<div>\n",
       "<style scoped>\n",
       "    .dataframe tbody tr th:only-of-type {\n",
       "        vertical-align: middle;\n",
       "    }\n",
       "\n",
       "    .dataframe tbody tr th {\n",
       "        vertical-align: top;\n",
       "    }\n",
       "\n",
       "    .dataframe thead th {\n",
       "        text-align: right;\n",
       "    }\n",
       "</style>\n",
       "<table border=\"1\" class=\"dataframe\">\n",
       "  <thead>\n",
       "    <tr style=\"text-align: right;\">\n",
       "      <th></th>\n",
       "      <th>channelGrouping</th>\n",
       "      <th>date</th>\n",
       "      <th>sessionId</th>\n",
       "      <th>visitNumber</th>\n",
       "      <th>visitStartTime</th>\n",
       "      <th>device.browser</th>\n",
       "      <th>device.deviceCategory</th>\n",
       "      <th>device.isMobile</th>\n",
       "      <th>device.operatingSystem</th>\n",
       "      <th>geoNetwork.city</th>\n",
       "      <th>geoNetwork.continent</th>\n",
       "      <th>geoNetwork.country</th>\n",
       "      <th>geoNetwork.metro</th>\n",
       "      <th>geoNetwork.networkDomain</th>\n",
       "      <th>geoNetwork.region</th>\n",
       "      <th>geoNetwork.subContinent</th>\n",
       "      <th>totals.bounces</th>\n",
       "      <th>totals.hits</th>\n",
       "      <th>totals.newVisits</th>\n",
       "      <th>totals.pageviews</th>\n",
       "      <th>totals.transactionRevenue</th>\n",
       "      <th>trafficSource.adContent</th>\n",
       "      <th>trafficSource.adwordsClickInfo.adNetworkType</th>\n",
       "      <th>trafficSource.adwordsClickInfo.gclId</th>\n",
       "      <th>trafficSource.adwordsClickInfo.isVideoAd</th>\n",
       "      <th>trafficSource.adwordsClickInfo.page</th>\n",
       "      <th>trafficSource.adwordsClickInfo.slot</th>\n",
       "      <th>trafficSource.campaign</th>\n",
       "      <th>trafficSource.isTrueDirect</th>\n",
       "      <th>trafficSource.keyword</th>\n",
       "      <th>trafficSource.referralPath</th>\n",
       "      <th>trafficSource.source</th>\n",
       "      <th>hasRevenue</th>\n",
       "      <th>logRevenue</th>\n",
       "    </tr>\n",
       "  </thead>\n",
       "  <tbody>\n",
       "    <tr>\n",
       "      <th>count</th>\n",
       "      <td>379215</td>\n",
       "      <td>379215</td>\n",
       "      <td>379215</td>\n",
       "      <td>379215.000000</td>\n",
       "      <td>379215</td>\n",
       "      <td>379215</td>\n",
       "      <td>379215</td>\n",
       "      <td>379215</td>\n",
       "      <td>379215</td>\n",
       "      <td>379215</td>\n",
       "      <td>379215</td>\n",
       "      <td>379215</td>\n",
       "      <td>379215</td>\n",
       "      <td>379215</td>\n",
       "      <td>379215</td>\n",
       "      <td>379215</td>\n",
       "      <td>188681.0</td>\n",
       "      <td>379215.000000</td>\n",
       "      <td>295237.0</td>\n",
       "      <td>379175.000000</td>\n",
       "      <td>3.792150e+05</td>\n",
       "      <td>379215</td>\n",
       "      <td>8849</td>\n",
       "      <td>8889</td>\n",
       "      <td>8849</td>\n",
       "      <td>8849.000000</td>\n",
       "      <td>8849</td>\n",
       "      <td>379215</td>\n",
       "      <td>114929</td>\n",
       "      <td>379215</td>\n",
       "      <td>139123</td>\n",
       "      <td>379215</td>\n",
       "      <td>379215.000000</td>\n",
       "      <td>379215.000000</td>\n",
       "    </tr>\n",
       "    <tr>\n",
       "      <th>unique</th>\n",
       "      <td>8</td>\n",
       "      <td>366</td>\n",
       "      <td>378857</td>\n",
       "      <td>NaN</td>\n",
       "      <td>376278</td>\n",
       "      <td>9</td>\n",
       "      <td>3</td>\n",
       "      <td>2</td>\n",
       "      <td>11</td>\n",
       "      <td>639</td>\n",
       "      <td>6</td>\n",
       "      <td>214</td>\n",
       "      <td>94</td>\n",
       "      <td>17038</td>\n",
       "      <td>372</td>\n",
       "      <td>23</td>\n",
       "      <td>NaN</td>\n",
       "      <td>NaN</td>\n",
       "      <td>NaN</td>\n",
       "      <td>NaN</td>\n",
       "      <td>NaN</td>\n",
       "      <td>4</td>\n",
       "      <td>2</td>\n",
       "      <td>7410</td>\n",
       "      <td>1</td>\n",
       "      <td>NaN</td>\n",
       "      <td>2</td>\n",
       "      <td>4</td>\n",
       "      <td>1</td>\n",
       "      <td>4</td>\n",
       "      <td>972</td>\n",
       "      <td>8</td>\n",
       "      <td>NaN</td>\n",
       "      <td>NaN</td>\n",
       "    </tr>\n",
       "    <tr>\n",
       "      <th>top</th>\n",
       "      <td>Organic Search</td>\n",
       "      <td>20161128</td>\n",
       "      <td>7053760850731460997_1496300394</td>\n",
       "      <td>NaN</td>\n",
       "      <td>1495031359</td>\n",
       "      <td>Chrome</td>\n",
       "      <td>desktop</td>\n",
       "      <td>False</td>\n",
       "      <td>Windows</td>\n",
       "      <td>not available in demo dataset</td>\n",
       "      <td>Americas</td>\n",
       "      <td>United States</td>\n",
       "      <td>not available in demo dataset</td>\n",
       "      <td>(not set)</td>\n",
       "      <td>not available in demo dataset</td>\n",
       "      <td>Northern America</td>\n",
       "      <td>NaN</td>\n",
       "      <td>NaN</td>\n",
       "      <td>NaN</td>\n",
       "      <td>NaN</td>\n",
       "      <td>NaN</td>\n",
       "      <td>NA</td>\n",
       "      <td>Google Search</td>\n",
       "      <td>CjwKEAiAj7TCBRCp2Z22ue-zrj4SJACG7SBEJui6ggr6oc...</td>\n",
       "      <td>False</td>\n",
       "      <td>NaN</td>\n",
       "      <td>Top</td>\n",
       "      <td>(not set)</td>\n",
       "      <td>True</td>\n",
       "      <td>Other</td>\n",
       "      <td>/</td>\n",
       "      <td>google</td>\n",
       "      <td>NaN</td>\n",
       "      <td>NaN</td>\n",
       "    </tr>\n",
       "    <tr>\n",
       "      <th>freq</th>\n",
       "      <td>160025</td>\n",
       "      <td>2043</td>\n",
       "      <td>2</td>\n",
       "      <td>NaN</td>\n",
       "      <td>4</td>\n",
       "      <td>260207</td>\n",
       "      <td>279187</td>\n",
       "      <td>279200</td>\n",
       "      <td>147156</td>\n",
       "      <td>213250</td>\n",
       "      <td>188792</td>\n",
       "      <td>153253</td>\n",
       "      <td>213250</td>\n",
       "      <td>102409</td>\n",
       "      <td>213250</td>\n",
       "      <td>163969</td>\n",
       "      <td>NaN</td>\n",
       "      <td>NaN</td>\n",
       "      <td>NaN</td>\n",
       "      <td>NaN</td>\n",
       "      <td>NaN</td>\n",
       "      <td>374747</td>\n",
       "      <td>8843</td>\n",
       "      <td>24</td>\n",
       "      <td>8849</td>\n",
       "      <td>NaN</td>\n",
       "      <td>8651</td>\n",
       "      <td>363198</td>\n",
       "      <td>114929</td>\n",
       "      <td>217977</td>\n",
       "      <td>31579</td>\n",
       "      <td>167944</td>\n",
       "      <td>NaN</td>\n",
       "      <td>NaN</td>\n",
       "    </tr>\n",
       "    <tr>\n",
       "      <th>mean</th>\n",
       "      <td>NaN</td>\n",
       "      <td>NaN</td>\n",
       "      <td>NaN</td>\n",
       "      <td>2.234268</td>\n",
       "      <td>NaN</td>\n",
       "      <td>NaN</td>\n",
       "      <td>NaN</td>\n",
       "      <td>NaN</td>\n",
       "      <td>NaN</td>\n",
       "      <td>NaN</td>\n",
       "      <td>NaN</td>\n",
       "      <td>NaN</td>\n",
       "      <td>NaN</td>\n",
       "      <td>NaN</td>\n",
       "      <td>NaN</td>\n",
       "      <td>NaN</td>\n",
       "      <td>1.0</td>\n",
       "      <td>4.605569</td>\n",
       "      <td>1.0</td>\n",
       "      <td>3.855929</td>\n",
       "      <td>1.782678e+06</td>\n",
       "      <td>NaN</td>\n",
       "      <td>NaN</td>\n",
       "      <td>NaN</td>\n",
       "      <td>NaN</td>\n",
       "      <td>1.006328</td>\n",
       "      <td>NaN</td>\n",
       "      <td>NaN</td>\n",
       "      <td>NaN</td>\n",
       "      <td>NaN</td>\n",
       "      <td>NaN</td>\n",
       "      <td>NaN</td>\n",
       "      <td>0.012879</td>\n",
       "      <td>0.229576</td>\n",
       "    </tr>\n",
       "    <tr>\n",
       "      <th>std</th>\n",
       "      <td>NaN</td>\n",
       "      <td>NaN</td>\n",
       "      <td>NaN</td>\n",
       "      <td>9.058815</td>\n",
       "      <td>NaN</td>\n",
       "      <td>NaN</td>\n",
       "      <td>NaN</td>\n",
       "      <td>NaN</td>\n",
       "      <td>NaN</td>\n",
       "      <td>NaN</td>\n",
       "      <td>NaN</td>\n",
       "      <td>NaN</td>\n",
       "      <td>NaN</td>\n",
       "      <td>NaN</td>\n",
       "      <td>NaN</td>\n",
       "      <td>NaN</td>\n",
       "      <td>0.0</td>\n",
       "      <td>9.785912</td>\n",
       "      <td>0.0</td>\n",
       "      <td>7.162013</td>\n",
       "      <td>6.279935e+07</td>\n",
       "      <td>NaN</td>\n",
       "      <td>NaN</td>\n",
       "      <td>NaN</td>\n",
       "      <td>NaN</td>\n",
       "      <td>0.119166</td>\n",
       "      <td>NaN</td>\n",
       "      <td>NaN</td>\n",
       "      <td>NaN</td>\n",
       "      <td>NaN</td>\n",
       "      <td>NaN</td>\n",
       "      <td>NaN</td>\n",
       "      <td>0.112754</td>\n",
       "      <td>2.014528</td>\n",
       "    </tr>\n",
       "    <tr>\n",
       "      <th>min</th>\n",
       "      <td>NaN</td>\n",
       "      <td>NaN</td>\n",
       "      <td>NaN</td>\n",
       "      <td>1.000000</td>\n",
       "      <td>NaN</td>\n",
       "      <td>NaN</td>\n",
       "      <td>NaN</td>\n",
       "      <td>NaN</td>\n",
       "      <td>NaN</td>\n",
       "      <td>NaN</td>\n",
       "      <td>NaN</td>\n",
       "      <td>NaN</td>\n",
       "      <td>NaN</td>\n",
       "      <td>NaN</td>\n",
       "      <td>NaN</td>\n",
       "      <td>NaN</td>\n",
       "      <td>1.0</td>\n",
       "      <td>1.000000</td>\n",
       "      <td>1.0</td>\n",
       "      <td>1.000000</td>\n",
       "      <td>0.000000e+00</td>\n",
       "      <td>NaN</td>\n",
       "      <td>NaN</td>\n",
       "      <td>NaN</td>\n",
       "      <td>NaN</td>\n",
       "      <td>1.000000</td>\n",
       "      <td>NaN</td>\n",
       "      <td>NaN</td>\n",
       "      <td>NaN</td>\n",
       "      <td>NaN</td>\n",
       "      <td>NaN</td>\n",
       "      <td>NaN</td>\n",
       "      <td>0.000000</td>\n",
       "      <td>0.000000</td>\n",
       "    </tr>\n",
       "    <tr>\n",
       "      <th>25%</th>\n",
       "      <td>NaN</td>\n",
       "      <td>NaN</td>\n",
       "      <td>NaN</td>\n",
       "      <td>1.000000</td>\n",
       "      <td>NaN</td>\n",
       "      <td>NaN</td>\n",
       "      <td>NaN</td>\n",
       "      <td>NaN</td>\n",
       "      <td>NaN</td>\n",
       "      <td>NaN</td>\n",
       "      <td>NaN</td>\n",
       "      <td>NaN</td>\n",
       "      <td>NaN</td>\n",
       "      <td>NaN</td>\n",
       "      <td>NaN</td>\n",
       "      <td>NaN</td>\n",
       "      <td>1.0</td>\n",
       "      <td>1.000000</td>\n",
       "      <td>1.0</td>\n",
       "      <td>1.000000</td>\n",
       "      <td>0.000000e+00</td>\n",
       "      <td>NaN</td>\n",
       "      <td>NaN</td>\n",
       "      <td>NaN</td>\n",
       "      <td>NaN</td>\n",
       "      <td>1.000000</td>\n",
       "      <td>NaN</td>\n",
       "      <td>NaN</td>\n",
       "      <td>NaN</td>\n",
       "      <td>NaN</td>\n",
       "      <td>NaN</td>\n",
       "      <td>NaN</td>\n",
       "      <td>0.000000</td>\n",
       "      <td>0.000000</td>\n",
       "    </tr>\n",
       "    <tr>\n",
       "      <th>50%</th>\n",
       "      <td>NaN</td>\n",
       "      <td>NaN</td>\n",
       "      <td>NaN</td>\n",
       "      <td>1.000000</td>\n",
       "      <td>NaN</td>\n",
       "      <td>NaN</td>\n",
       "      <td>NaN</td>\n",
       "      <td>NaN</td>\n",
       "      <td>NaN</td>\n",
       "      <td>NaN</td>\n",
       "      <td>NaN</td>\n",
       "      <td>NaN</td>\n",
       "      <td>NaN</td>\n",
       "      <td>NaN</td>\n",
       "      <td>NaN</td>\n",
       "      <td>NaN</td>\n",
       "      <td>1.0</td>\n",
       "      <td>2.000000</td>\n",
       "      <td>1.0</td>\n",
       "      <td>2.000000</td>\n",
       "      <td>0.000000e+00</td>\n",
       "      <td>NaN</td>\n",
       "      <td>NaN</td>\n",
       "      <td>NaN</td>\n",
       "      <td>NaN</td>\n",
       "      <td>1.000000</td>\n",
       "      <td>NaN</td>\n",
       "      <td>NaN</td>\n",
       "      <td>NaN</td>\n",
       "      <td>NaN</td>\n",
       "      <td>NaN</td>\n",
       "      <td>NaN</td>\n",
       "      <td>0.000000</td>\n",
       "      <td>0.000000</td>\n",
       "    </tr>\n",
       "    <tr>\n",
       "      <th>75%</th>\n",
       "      <td>NaN</td>\n",
       "      <td>NaN</td>\n",
       "      <td>NaN</td>\n",
       "      <td>1.000000</td>\n",
       "      <td>NaN</td>\n",
       "      <td>NaN</td>\n",
       "      <td>NaN</td>\n",
       "      <td>NaN</td>\n",
       "      <td>NaN</td>\n",
       "      <td>NaN</td>\n",
       "      <td>NaN</td>\n",
       "      <td>NaN</td>\n",
       "      <td>NaN</td>\n",
       "      <td>NaN</td>\n",
       "      <td>NaN</td>\n",
       "      <td>NaN</td>\n",
       "      <td>1.0</td>\n",
       "      <td>4.000000</td>\n",
       "      <td>1.0</td>\n",
       "      <td>4.000000</td>\n",
       "      <td>0.000000e+00</td>\n",
       "      <td>NaN</td>\n",
       "      <td>NaN</td>\n",
       "      <td>NaN</td>\n",
       "      <td>NaN</td>\n",
       "      <td>1.000000</td>\n",
       "      <td>NaN</td>\n",
       "      <td>NaN</td>\n",
       "      <td>NaN</td>\n",
       "      <td>NaN</td>\n",
       "      <td>NaN</td>\n",
       "      <td>NaN</td>\n",
       "      <td>0.000000</td>\n",
       "      <td>0.000000</td>\n",
       "    </tr>\n",
       "    <tr>\n",
       "      <th>max</th>\n",
       "      <td>NaN</td>\n",
       "      <td>NaN</td>\n",
       "      <td>NaN</td>\n",
       "      <td>326.000000</td>\n",
       "      <td>NaN</td>\n",
       "      <td>NaN</td>\n",
       "      <td>NaN</td>\n",
       "      <td>NaN</td>\n",
       "      <td>NaN</td>\n",
       "      <td>NaN</td>\n",
       "      <td>NaN</td>\n",
       "      <td>NaN</td>\n",
       "      <td>NaN</td>\n",
       "      <td>NaN</td>\n",
       "      <td>NaN</td>\n",
       "      <td>NaN</td>\n",
       "      <td>1.0</td>\n",
       "      <td>500.000000</td>\n",
       "      <td>1.0</td>\n",
       "      <td>469.000000</td>\n",
       "      <td>2.312950e+10</td>\n",
       "      <td>NaN</td>\n",
       "      <td>NaN</td>\n",
       "      <td>NaN</td>\n",
       "      <td>NaN</td>\n",
       "      <td>7.000000</td>\n",
       "      <td>NaN</td>\n",
       "      <td>NaN</td>\n",
       "      <td>NaN</td>\n",
       "      <td>NaN</td>\n",
       "      <td>NaN</td>\n",
       "      <td>NaN</td>\n",
       "      <td>1.000000</td>\n",
       "      <td>23.864375</td>\n",
       "    </tr>\n",
       "  </tbody>\n",
       "</table>\n",
       "</div>"
      ],
      "text/plain": [
       "       channelGrouping      date                       sessionId  \\\n",
       "count           379215    379215                          379215   \n",
       "unique               8       366                          378857   \n",
       "top     Organic Search  20161128  7053760850731460997_1496300394   \n",
       "freq            160025      2043                               2   \n",
       "mean               NaN       NaN                             NaN   \n",
       "std                NaN       NaN                             NaN   \n",
       "min                NaN       NaN                             NaN   \n",
       "25%                NaN       NaN                             NaN   \n",
       "50%                NaN       NaN                             NaN   \n",
       "75%                NaN       NaN                             NaN   \n",
       "max                NaN       NaN                             NaN   \n",
       "\n",
       "          visitNumber visitStartTime device.browser device.deviceCategory  \\\n",
       "count   379215.000000         379215         379215                379215   \n",
       "unique            NaN         376278              9                     3   \n",
       "top               NaN     1495031359         Chrome               desktop   \n",
       "freq              NaN              4         260207                279187   \n",
       "mean         2.234268            NaN            NaN                   NaN   \n",
       "std          9.058815            NaN            NaN                   NaN   \n",
       "min          1.000000            NaN            NaN                   NaN   \n",
       "25%          1.000000            NaN            NaN                   NaN   \n",
       "50%          1.000000            NaN            NaN                   NaN   \n",
       "75%          1.000000            NaN            NaN                   NaN   \n",
       "max        326.000000            NaN            NaN                   NaN   \n",
       "\n",
       "       device.isMobile device.operatingSystem                geoNetwork.city  \\\n",
       "count           379215                 379215                         379215   \n",
       "unique               2                     11                            639   \n",
       "top              False                Windows  not available in demo dataset   \n",
       "freq            279200                 147156                         213250   \n",
       "mean               NaN                    NaN                            NaN   \n",
       "std                NaN                    NaN                            NaN   \n",
       "min                NaN                    NaN                            NaN   \n",
       "25%                NaN                    NaN                            NaN   \n",
       "50%                NaN                    NaN                            NaN   \n",
       "75%                NaN                    NaN                            NaN   \n",
       "max                NaN                    NaN                            NaN   \n",
       "\n",
       "       geoNetwork.continent geoNetwork.country               geoNetwork.metro  \\\n",
       "count                379215             379215                         379215   \n",
       "unique                    6                214                             94   \n",
       "top                Americas      United States  not available in demo dataset   \n",
       "freq                 188792             153253                         213250   \n",
       "mean                    NaN                NaN                            NaN   \n",
       "std                     NaN                NaN                            NaN   \n",
       "min                     NaN                NaN                            NaN   \n",
       "25%                     NaN                NaN                            NaN   \n",
       "50%                     NaN                NaN                            NaN   \n",
       "75%                     NaN                NaN                            NaN   \n",
       "max                     NaN                NaN                            NaN   \n",
       "\n",
       "       geoNetwork.networkDomain              geoNetwork.region  \\\n",
       "count                    379215                         379215   \n",
       "unique                    17038                            372   \n",
       "top                   (not set)  not available in demo dataset   \n",
       "freq                     102409                         213250   \n",
       "mean                        NaN                            NaN   \n",
       "std                         NaN                            NaN   \n",
       "min                         NaN                            NaN   \n",
       "25%                         NaN                            NaN   \n",
       "50%                         NaN                            NaN   \n",
       "75%                         NaN                            NaN   \n",
       "max                         NaN                            NaN   \n",
       "\n",
       "       geoNetwork.subContinent  totals.bounces    totals.hits  \\\n",
       "count                   379215        188681.0  379215.000000   \n",
       "unique                      23             NaN            NaN   \n",
       "top           Northern America             NaN            NaN   \n",
       "freq                    163969             NaN            NaN   \n",
       "mean                       NaN             1.0       4.605569   \n",
       "std                        NaN             0.0       9.785912   \n",
       "min                        NaN             1.0       1.000000   \n",
       "25%                        NaN             1.0       1.000000   \n",
       "50%                        NaN             1.0       2.000000   \n",
       "75%                        NaN             1.0       4.000000   \n",
       "max                        NaN             1.0     500.000000   \n",
       "\n",
       "        totals.newVisits  totals.pageviews  totals.transactionRevenue  \\\n",
       "count           295237.0     379175.000000               3.792150e+05   \n",
       "unique               NaN               NaN                        NaN   \n",
       "top                  NaN               NaN                        NaN   \n",
       "freq                 NaN               NaN                        NaN   \n",
       "mean                 1.0          3.855929               1.782678e+06   \n",
       "std                  0.0          7.162013               6.279935e+07   \n",
       "min                  1.0          1.000000               0.000000e+00   \n",
       "25%                  1.0          1.000000               0.000000e+00   \n",
       "50%                  1.0          2.000000               0.000000e+00   \n",
       "75%                  1.0          4.000000               0.000000e+00   \n",
       "max                  1.0        469.000000               2.312950e+10   \n",
       "\n",
       "       trafficSource.adContent trafficSource.adwordsClickInfo.adNetworkType  \\\n",
       "count                   379215                                         8849   \n",
       "unique                       4                                            2   \n",
       "top                         NA                                Google Search   \n",
       "freq                    374747                                         8843   \n",
       "mean                       NaN                                          NaN   \n",
       "std                        NaN                                          NaN   \n",
       "min                        NaN                                          NaN   \n",
       "25%                        NaN                                          NaN   \n",
       "50%                        NaN                                          NaN   \n",
       "75%                        NaN                                          NaN   \n",
       "max                        NaN                                          NaN   \n",
       "\n",
       "                     trafficSource.adwordsClickInfo.gclId  \\\n",
       "count                                                8889   \n",
       "unique                                               7410   \n",
       "top     CjwKEAiAj7TCBRCp2Z22ue-zrj4SJACG7SBEJui6ggr6oc...   \n",
       "freq                                                   24   \n",
       "mean                                                  NaN   \n",
       "std                                                   NaN   \n",
       "min                                                   NaN   \n",
       "25%                                                   NaN   \n",
       "50%                                                   NaN   \n",
       "75%                                                   NaN   \n",
       "max                                                   NaN   \n",
       "\n",
       "       trafficSource.adwordsClickInfo.isVideoAd  \\\n",
       "count                                      8849   \n",
       "unique                                        1   \n",
       "top                                       False   \n",
       "freq                                       8849   \n",
       "mean                                        NaN   \n",
       "std                                         NaN   \n",
       "min                                         NaN   \n",
       "25%                                         NaN   \n",
       "50%                                         NaN   \n",
       "75%                                         NaN   \n",
       "max                                         NaN   \n",
       "\n",
       "        trafficSource.adwordsClickInfo.page  \\\n",
       "count                           8849.000000   \n",
       "unique                                  NaN   \n",
       "top                                     NaN   \n",
       "freq                                    NaN   \n",
       "mean                               1.006328   \n",
       "std                                0.119166   \n",
       "min                                1.000000   \n",
       "25%                                1.000000   \n",
       "50%                                1.000000   \n",
       "75%                                1.000000   \n",
       "max                                7.000000   \n",
       "\n",
       "       trafficSource.adwordsClickInfo.slot trafficSource.campaign  \\\n",
       "count                                 8849                 379215   \n",
       "unique                                   2                      4   \n",
       "top                                    Top              (not set)   \n",
       "freq                                  8651                 363198   \n",
       "mean                                   NaN                    NaN   \n",
       "std                                    NaN                    NaN   \n",
       "min                                    NaN                    NaN   \n",
       "25%                                    NaN                    NaN   \n",
       "50%                                    NaN                    NaN   \n",
       "75%                                    NaN                    NaN   \n",
       "max                                    NaN                    NaN   \n",
       "\n",
       "       trafficSource.isTrueDirect trafficSource.keyword  \\\n",
       "count                      114929                379215   \n",
       "unique                          1                     4   \n",
       "top                          True                 Other   \n",
       "freq                       114929                217977   \n",
       "mean                          NaN                   NaN   \n",
       "std                           NaN                   NaN   \n",
       "min                           NaN                   NaN   \n",
       "25%                           NaN                   NaN   \n",
       "50%                           NaN                   NaN   \n",
       "75%                           NaN                   NaN   \n",
       "max                           NaN                   NaN   \n",
       "\n",
       "       trafficSource.referralPath trafficSource.source     hasRevenue  \\\n",
       "count                      139123               379215  379215.000000   \n",
       "unique                        972                    8            NaN   \n",
       "top                             /               google            NaN   \n",
       "freq                        31579               167944            NaN   \n",
       "mean                          NaN                  NaN       0.012879   \n",
       "std                           NaN                  NaN       0.112754   \n",
       "min                           NaN                  NaN       0.000000   \n",
       "25%                           NaN                  NaN       0.000000   \n",
       "50%                           NaN                  NaN       0.000000   \n",
       "75%                           NaN                  NaN       0.000000   \n",
       "max                           NaN                  NaN       1.000000   \n",
       "\n",
       "           logRevenue  \n",
       "count   379215.000000  \n",
       "unique            NaN  \n",
       "top               NaN  \n",
       "freq              NaN  \n",
       "mean         0.229576  \n",
       "std          2.014528  \n",
       "min          0.000000  \n",
       "25%          0.000000  \n",
       "50%          0.000000  \n",
       "75%          0.000000  \n",
       "max         23.864375  "
      ]
     },
     "execution_count": 57,
     "metadata": {},
     "output_type": "execute_result"
    }
   ],
   "source": [
    "trn_df.describe(include='all')"
   ]
  },
  {
   "cell_type": "code",
   "execution_count": 58,
   "metadata": {},
   "outputs": [
    {
     "data": {
      "text/plain": [
       "array(['(not provided)', '???', 'Google Merch', 'Other'], dtype=object)"
      ]
     },
     "execution_count": 58,
     "metadata": {},
     "output_type": "execute_result"
    },
    {
     "data": {
      "image/png": "[encoded data removed]",
      "text/plain": [
       "<Figure size 432x288 with 1 Axes>"
      ]
     },
     "metadata": {},
     "output_type": "display_data"
    }
   ],
   "source": [
    "cols = trn_df[trn_df['totals.transactionRevenue'] > 0].groupby('trafficSource.keyword')['trafficSource.keyword'].unique().index.values\n",
    "sns.barplot(y='trafficSource.keyword', x='logRevenue', data=trn_df[trn_df['trafficSource.keyword'].isin(cols)])\n",
    "cols"
   ]
  },
  {
   "cell_type": "code",
   "execution_count": 59,
   "metadata": {},
   "outputs": [
    {
     "data": {
      "text/plain": [
       "<matplotlib.axes._subplots.AxesSubplot at 0x1c038ea91d0>"
      ]
     },
     "execution_count": 59,
     "metadata": {},
     "output_type": "execute_result"
    },
    {
     "data": {
      "image/png": "[encoded data removed]",
      "text/plain": [
       "<Figure size 432x288 with 1 Axes>"
      ]
     },
     "metadata": {},
     "output_type": "display_data"
    }
   ],
   "source": [
    "# Ploting count per group\n",
    "sns.countplot(y='trafficSource.keyword', data=trn_df[trn_df['trafficSource.keyword'].isin(cols)])"
   ]
  },
  {
   "cell_type": "markdown",
   "metadata": {},
   "source": [
    "### Creating Time Features"
   ]
  },
  {
   "cell_type": "code",
   "execution_count": 113,
   "metadata": {},
   "outputs": [
    {
     "name": "stdout",
     "output_type": "stream",
     "text": [
      "count                  379215\n",
      "unique                 376278\n",
      "top       2017-05-09 23:56:39\n",
      "freq                        4\n",
      "first     2016-08-01 07:00:12\n",
      "last      2017-08-02 06:59:46\n",
      "Name: visitStartTime, dtype: object\n",
      "count                  261443\n",
      "unique                 257990\n",
      "top       2017-12-13 00:31:19\n",
      "freq                       11\n",
      "first     2017-08-02 07:00:03\n",
      "last      2018-05-01 06:56:00\n",
      "Name: visitStartTime, dtype: object\n"
     ]
    }
   ],
   "source": [
    "#Looking at first and last shows that it is clearly a time dependent problem\n",
    "trn_df['visitStartTime'] = pd.to_datetime(trn_df['visitStartTime'],unit='s')\n",
    "print(trn_df['visitStartTime'].describe())\n",
    "tst_df['visitStartTime'] = pd.to_datetime(tst_df['visitStartTime'],unit='s')\n",
    "print(tst_df['visitStartTime'].describe())"
   ]
  },
  {
   "cell_type": "code",
   "execution_count": 114,
   "metadata": {},
   "outputs": [],
   "source": [
    "trn_df['weekday'] = trn_df['visitStartTime'].dt.weekday.astype(str)\n",
    "tst_df['weekday'] = tst_df['visitStartTime'].dt.weekday.astype(str)"
   ]
  },
  {
   "cell_type": "code",
   "execution_count": 115,
   "metadata": {},
   "outputs": [],
   "source": [
    "trn_df['time']  = trn_df['visitStartTime'].dt.hour.astype(str)\n",
    "tst_df['time']  = tst_df['visitStartTime'].dt.hour.astype(str)"
   ]
  },
  {
   "cell_type": "code",
   "execution_count": 116,
   "metadata": {},
   "outputs": [],
   "source": [
    "# Time since last and till next session\n",
    "def sessions(df):\n",
    "    df['timePrevSession'] = (\n",
    "            df['visitStartTime'] - df.groupby('fullVisitorId')['visitStartTime'].shift(1)\n",
    "        ).astype(np.int64) // 1e9 // 60 // 60\n",
    "    df['timeNextSession'] = (\n",
    "            df.groupby('fullVisitorId')['visitStartTime'].shift(-1) - df['visitStartTime']\n",
    "        ).astype(np.int64) // 1e9 // 60 // 60\n",
    "sessions(trn_df)\n",
    "sessions(tst_df)"
   ]
  },
  {
   "cell_type": "code",
   "execution_count": 117,
   "metadata": {},
   "outputs": [],
   "source": [
    "# Number of visits\n",
    "trn_df['totalVisits'] = trn_df.groupby('fullVisitorId')['visitNumber'].max()\n",
    "tst_df['totalVisits'] = tst_df.groupby('fullVisitorId')['visitNumber'].max()"
   ]
  },
  {
   "cell_type": "code",
   "execution_count": null,
   "metadata": {},
   "outputs": [],
   "source": [
    "# Number of future visits\n",
    "temp = trn_df.copy()\n",
    "\n",
    "def numLastHours(df, periods = [12]):\n",
    "#     print(periods, type(df), df)\n",
    "    results = pd.DataFrame(index=pd.DataFrame(df).index, columns=periods)\n",
    "    for period in periods: \n",
    "        for index, date in df['visitStartTime'].items():\n",
    "            time_range = df['visitStartTime'].between(date - pd.to_timedelta(period, 'h'), date)\n",
    "            results.loc[index, period] = time_range.sum() - 1\n",
    "    return results.fillna(0).astype(int)\n",
    "\n",
    "results = pd.concat(numLastHours(group[1]) for group in temp.groupby('fullVisitorId'))\n",
    "results\n"
   ]
  },
  {
   "cell_type": "code",
   "execution_count": null,
   "metadata": {},
   "outputs": [],
   "source": [
    "def hours(x,y):\n",
    "    ((df['visitStartTime'] - df['visitStartTime']).astype(np.int64) // 1e9 // 60 // 60)\n",
    "hours(x,y):"
   ]
  },
  {
   "cell_type": "markdown",
   "metadata": {},
   "source": [
    "### Encoding Categorical Features"
   ]
  },
  {
   "cell_type": "markdown",
   "metadata": {},
   "source": [
    "#### Weekday"
   ]
  },
  {
   "cell_type": "code",
   "execution_count": 118,
   "metadata": {},
   "outputs": [
    {
     "data": {
      "text/plain": [
       "<matplotlib.axes._subplots.AxesSubplot at 0x1c0774f1b38>"
      ]
     },
     "execution_count": 118,
     "metadata": {},
     "output_type": "execute_result"
    },
    {
     "data": {
      "image/png": "[encoded data removed]",
      "text/plain": [
       "<Figure size 432x288 with 1 Axes>"
      ]
     },
     "metadata": {},
     "output_type": "display_data"
    }
   ],
   "source": [
    "# Plotting the weekday relationship to the log1p revenue\n",
    "sns.barplot('weekday', 'logRevenue', data = trn_df)"
   ]
  },
  {
   "cell_type": "code",
   "execution_count": 119,
   "metadata": {},
   "outputs": [
    {
     "data": {
      "text/plain": [
       "<matplotlib.axes._subplots.AxesSubplot at 0x1c07b94c860>"
      ]
     },
     "execution_count": 119,
     "metadata": {},
     "output_type": "execute_result"
    },
    {
     "data": {
      "image/png": "[encoded data removed]",
      "text/plain": [
       "<Figure size 432x288 with 1 Axes>"
      ]
     },
     "metadata": {},
     "output_type": "display_data"
    }
   ],
   "source": [
    "# Ploting count per group\n",
    "sns.countplot('weekday', data=trn_df)"
   ]
  },
  {
   "cell_type": "code",
   "execution_count": 120,
   "metadata": {},
   "outputs": [
    {
     "data": {
      "text/plain": [
       "{'weekday':   variable                bin   count  count_distr    good   bad   badprob  \\\n",
       " 0  weekday              6%,%5   82830     0.218288   82132   698  0.008427   \n",
       " 1  weekday  2%,%3%,%4%,%1%,%0  296623     0.781712  292568  4055  0.013671   \n",
       " \n",
       "         woe    bin_iv  total_iv             breaks  is_special_values  \n",
       " 0 -0.400514  0.028973  0.035382              6%,%5              False  \n",
       " 1  0.088603  0.006410  0.035382  2%,%3%,%4%,%1%,%0              False  }"
      ]
     },
     "execution_count": 120,
     "metadata": {},
     "output_type": "execute_result"
    }
   ],
   "source": [
    "# Weight of Evidence (WOE) encoding\n",
    "weekday = trn_df[['weekday','hasRevenue']]\n",
    "#bins_weekday = sc.woebin(weekday, y='hasRevenue', stop_limit=0.02, max_num_bin=2, method='tree')\n",
    "#Saving for quick load    \n",
    "#np.save('C:/Users/Jake Cherrie/Data Sets/Gstore Revenue Prediction/Bins sets/bins_weekday.npy', bins_weekday) \n",
    "# Quick load of dataframe\n",
    "bins_weekday = np.load('C:/Users/Jake Cherrie/Data Sets/Gstore Revenue Prediction/Bins sets/bins_weekday.npy').item()\n",
    "bins_weekday"
   ]
  },
  {
   "cell_type": "code",
   "execution_count": 121,
   "metadata": {},
   "outputs": [],
   "source": [
    "# Applying WOE encoding\n",
    "#trn_df['weekday'] = sc.woebin_ply(trn_df, bins_weekday)['weekday_woe']\n",
    "#tst_df['weekday'] = sc.woebin_ply(tst_df, bins_weekday)['weekday_woe']"
   ]
  },
  {
   "cell_type": "markdown",
   "metadata": {},
   "source": [
    "### Creating and encoding feature and target datasets"
   ]
  },
  {
   "cell_type": "code",
   "execution_count": 122,
   "metadata": {},
   "outputs": [],
   "source": [
    "#Dropping unused features\n",
    "trn_set = trn_df.drop(columns=['visitStartTime', 'date', 'sessionId', 'trafficSource.adwordsClickInfo.gclId'])\n",
    "tst_set = tst_df.drop(columns=['visitStartTime', 'date', 'sessionId', 'trafficSource.adwordsClickInfo.gclId'])"
   ]
  },
  {
   "cell_type": "code",
   "execution_count": 123,
   "metadata": {},
   "outputs": [],
   "source": [
    "# Creating feature and target sets\n",
    "trn_fts = trn_set[tst_set.columns]\n",
    "trn_tgt = trn_set['logRevenue']\n",
    "tst_fts = tst_set"
   ]
  },
  {
   "cell_type": "code",
   "execution_count": 124,
   "metadata": {},
   "outputs": [
    {
     "data": {
      "text/plain": [
       "((379215, 32), (261443, 32))"
      ]
     },
     "execution_count": 124,
     "metadata": {},
     "output_type": "execute_result"
    }
   ],
   "source": [
    "trn_fts.shape, tst_fts.shape"
   ]
  },
  {
   "cell_type": "code",
   "execution_count": 125,
   "metadata": {},
   "outputs": [],
   "source": [
    "#Setting up categorical columns\n",
    "cat_col = [col for col in trn_fts.columns if trn_fts[col].dtype == 'object']\n",
    "# factorizing categorical columns\n",
    "for col in cat_col:\n",
    "    indexer = pd.factorize(trn_set[col])[1]\n",
    "    trn_fts[col] = indexer.get_indexer(trn_fts[col])\n",
    "    tst_fts[col] = indexer.get_indexer(tst_fts[col])\n",
    "# Converting bool into int\n",
    "trn_fts['device.isMobile'] = trn_fts['device.isMobile'].astype(int)\n",
    "tst_fts['device.isMobile'] = tst_fts['device.isMobile'].astype(int)"
   ]
  },
  {
   "cell_type": "markdown",
   "metadata": {},
   "source": [
    "### Visit ID Level Fit"
   ]
  },
  {
   "cell_type": "code",
   "execution_count": 127,
   "metadata": {},
   "outputs": [],
   "source": [
    "# Initializing lgb paramaters\n",
    "params={'num_leaves': 31,\n",
    "        'max_depth': 16,\n",
    "        'learning_rate': 0.03,\n",
    "        'n_estimators': 1000,\n",
    "        'metric':'rmse',\n",
    "        'num_leaves': 31,\n",
    "        'verbose': 1,\n",
    "        \"subsample\": 0.9,\n",
    "        \"colsample_bytree\": 0.9,\n",
    "        \"random_state\":42,\n",
    "        'min_child_samples': 20\n",
    "       }"
   ]
  },
  {
   "cell_type": "code",
   "execution_count": 128,
   "metadata": {},
   "outputs": [],
   "source": [
    "unq_vis = np.array(sorted(pd.Series(trn_df.index.values).unique()))\n",
    "# Get folds\n",
    "Kflds = KFold(n_splits=5, shuffle=True, random_state=42)\n",
    "flds = []\n",
    "for trn_, vld in Kflds.split(X=unq_vis, y=unq_vis):\n",
    "    flds.append([unq_vis[trn_],unq_vis[vld]])"
   ]
  },
  {
   "cell_type": "code",
   "execution_count": 129,
   "metadata": {},
   "outputs": [
    {
     "name": "stdout",
     "output_type": "stream",
     "text": [
      "Fold  1 RMSE : 1.688263\n",
      "Fold  2 RMSE : 1.662246\n",
      "Fold  3 RMSE : 1.598508\n",
      "Fold  4 RMSE : 1.632188\n",
      "Fold  5 RMSE : 1.605741\n"
     ]
    },
    {
     "data": {
      "text/plain": [
       "1.6377402085589046"
      ]
     },
     "execution_count": 129,
     "metadata": {},
     "output_type": "execute_result"
    }
   ],
   "source": [
    "# Initializing Variables\n",
    "trn_df['prd'] = 0\n",
    "trn_prd =  trn_df['prd']\n",
    "tst_prd = np.zeros(tst_fts.shape[0])\n",
    "imp = pd.DataFrame()\n",
    "wgt_sum = 0\n",
    "MSE = 0\n",
    "\n",
    "for n_fld ,(trn_idx, vld_idx) in enumerate(flds):\n",
    "    #trn_idx = idx_tab.iloc[trn_num].index\n",
    "    #vld_idx = idx_tab.iloc[vld_num].index\n",
    "    trn_X, trn_y = trn_fts.loc[trn_idx], trn_tgt.loc[trn_idx]\n",
    "    vld_X, vld_y = trn_fts.loc[vld_idx], trn_tgt.loc[vld_idx]\n",
    "    \n",
    "    lgb = LGBMRegressor(**params)\n",
    "    \n",
    "    # Fit the model\n",
    "    lgb.fit(trn_X, trn_y)\n",
    "    \n",
    "    # applying the model to the validation data\n",
    "    val_prd = lgb.predict(vld_X)\n",
    "    val_prd[val_prd < 0] = 0\n",
    "    # Calculating and outputting the RMSE\n",
    "    fld_MSE = mean_squared_error(vld_y, val_prd)\n",
    "    print('Fold %2d RMSE : %.6f' % (n_fld + 1, np.sqrt(fld_MSE)))\n",
    "    \n",
    "    # Summing mean squared errors\n",
    "    MSE += fld_MSE/5\n",
    "    wgt_sum += 1/np.sqrt(fld_MSE)\n",
    "    \n",
    "    # Applying predictions to the train set weighted by the MSE\n",
    "    prd = lgb.predict(vld_X)\n",
    "    prd[prd < 0] = 0\n",
    "    trn_prd.loc[vld_idx] = prd\n",
    "    \n",
    "    # Applying predictions to the test set weighted by the MSE\n",
    "    prd = lgb.predict(tst_fts)\n",
    "    prd[prd < 0] = 0\n",
    "    tst_prd += prd/np.sqrt(fld_MSE)\n",
    "    \n",
    "    # Calculating the fold importance\n",
    "    imp_df = pd.DataFrame()\n",
    "    imp_df['fts'] = trn_X.columns\n",
    "    imp_df['imp'] = lgb.booster_.feature_importance(importance_type='gain')\n",
    "    \n",
    "    # Summing the fold importances\n",
    "    imp_df['fld'] = n_fld+1\n",
    "    imp = pd.concat([imp, imp_df], axis=0, sort=False)\n",
    "\n",
    "np.sqrt(MSE)\n",
    "# full = 1.6336474922884041\n",
    "# 1.6387851689243524\n",
    "# 1.6377402085589046"
   ]
  },
  {
   "cell_type": "code",
   "execution_count": 103,
   "metadata": {},
   "outputs": [],
   "source": [
    "# Scaling and assigning the predictions\n",
    "trn_fts['prd'] = np.expm1(trn_prd)\n",
    "trn_fts['log_prd'] = trn_prd\n",
    "tst_fts['prd'] = np.expm1(tst_prd/wgt_sum)\n",
    "tst_fts['log_prd'] = tst_prd/wgt_sum"
   ]
  },
  {
   "cell_type": "code",
   "execution_count": 104,
   "metadata": {},
   "outputs": [
    {
     "data": {
      "text/plain": [
       "Text(0.5,1,'Features (avg over folds)')"
      ]
     },
     "execution_count": 104,
     "metadata": {},
     "output_type": "execute_result"
    },
    {
     "data": {
      "image/png": "[encoded data removed]",
      "text/plain": [
       "<Figure size 576x864 with 1 Axes>"
      ]
     },
     "metadata": {},
     "output_type": "display_data"
    }
   ],
   "source": [
    "# Ploting stage 1 feature importances\n",
    "cols = imp[[\"fts\", \"imp\"]].groupby(\"fts\").mean().sort_values(by=\"imp\", ascending=False)[:60].index\n",
    "imp['log1p_imp'] = np.log1p(imp['imp'])\n",
    "best_features = imp.loc[imp.fts.isin(cols)]\n",
    "plt.figure(figsize=(8, 12))\n",
    "sns.barplot(x=\"log1p_imp\", y=\"fts\", data=best_features.sort_values(by=\"imp\", ascending=False))\n",
    "plt.title('Features (avg over folds)')"
   ]
  },
  {
   "cell_type": "code",
   "execution_count": 74,
   "metadata": {},
   "outputs": [],
   "source": [
    "# Create a list of predictions for each Visitor\n",
    "def prediction_list(df):\n",
    "    prd_lst = df.groupby('fullVisitorId')['log_prd']\\\n",
    "                .apply(lambda df: list(df))\\\n",
    "                .apply(lambda x: {'pred_'+str(i): pred for i, pred in enumerate(x[:10])})\n",
    "    return pd.DataFrame(index=pd.Series(df.index.values).unique(),data=list(prd_lst.values))"
   ]
  },
  {
   "cell_type": "code",
   "execution_count": 75,
   "metadata": {},
   "outputs": [],
   "source": [
    "# Features: Perform aggregations\n",
    "aggregations = {\n",
    "    'channelGrouping': ['median'],\n",
    "    'visitNumber': ['max', 'sum'],\n",
    "    'device.browser': ['median'],\n",
    "    'device.deviceCategory': ['median'], \n",
    "    'device.isMobile': ['max', 'sum', 'min'], \n",
    "    'device.operatingSystem': ['median'],\n",
    "    'geoNetwork.city': ['median'], \n",
    "    'geoNetwork.continent': ['median'], \n",
    "    'geoNetwork.country': ['median'],\n",
    "    'geoNetwork.metro': ['median'], \n",
    "    'geoNetwork.networkDomain': ['median'], \n",
    "    'geoNetwork.region': ['median'],\n",
    "    'geoNetwork.subContinent': ['median'], \n",
    "    'totals.bounces': ['max','sum'], \n",
    "    'totals.hits': ['max'],\n",
    "    'totals.newVisits': ['max'], \n",
    "    'totals.pageviews': ['max'], \n",
    "    'trafficSource.adContent': ['median'],\n",
    "    'trafficSource.adwordsClickInfo.adNetworkType': ['median'],\n",
    "    #'trafficSource.adwordsClickInfo.gclId': ['median'],\n",
    "    'trafficSource.adwordsClickInfo.isVideoAd': ['median'],\n",
    "    'trafficSource.adwordsClickInfo.page': ['median'],\n",
    "    'trafficSource.adwordsClickInfo.slot': ['median'], \n",
    "    'trafficSource.campaign': ['median'],\n",
    "    'trafficSource.isTrueDirect': ['median'], \n",
    "    'trafficSource.keyword': ['median'],\n",
    "    'trafficSource.referralPath': ['median'], \n",
    "    'trafficSource.source': ['median'],\n",
    "    'log_prd': ['sum','max'],\n",
    "    'prd': ['sum','max'],\n",
    "    'prev_session': ['mean', 'sum'],\n",
    "    'next_session': ['mean', 'sum']\n",
    "}"
   ]
  },
  {
   "cell_type": "code",
   "execution_count": null,
   "metadata": {},
   "outputs": [],
   "source": [
    "trn_agg = trn_fts.groupby('fullVisitorId').agg(aggregations)\n",
    "trn_agg.columns = pd.Index([e[0] + \".\" + e[1].upper() for e in trn_agg.columns.tolist()])\n",
    "tst_agg = tst_fts.groupby('fullVisitorId').agg(aggregations)\n",
    "tst_agg.columns = pd.Index([e[0] + \".\" + e[1].upper() for e in tst_agg.columns.tolist()])"
   ]
  },
  {
   "cell_type": "code",
   "execution_count": null,
   "metadata": {},
   "outputs": [],
   "source": [
    "# Adding visit prediction\n",
    "#trn_agg = pd.concat([trn_agg, prediction_list(trn_fts)], axis=1)\n",
    "#size_reduction(trn_agg)\n",
    "#tst_agg = pd.concat([tst_agg, prediction_list(tst_fts)], axis=1)\n",
    "#size_reduction(tst_agg)\n",
    "#trn_agg = trn_agg[tst_agg.columns]\n",
    "#gc.collect()"
   ]
  },
  {
   "cell_type": "code",
   "execution_count": null,
   "metadata": {},
   "outputs": [],
   "source": [
    "trn_agg['prd.SUM'] = np.log1p(trn_agg['prd.SUM'])\n",
    "tst_agg['prd.SUM'] = np.log1p(tst_agg['prd.SUM'])"
   ]
  },
  {
   "cell_type": "code",
   "execution_count": null,
   "metadata": {},
   "outputs": [],
   "source": [
    "tgt_agg = np.log1p(trn_df.groupby('fullVisitorId').sum()['totals.transactionRevenue'])"
   ]
  },
  {
   "cell_type": "code",
   "execution_count": null,
   "metadata": {},
   "outputs": [],
   "source": [
    "trn_agg.shape, tst_agg.shape"
   ]
  },
  {
   "cell_type": "code",
   "execution_count": null,
   "metadata": {},
   "outputs": [],
   "source": [
    "# Initializing stage 2 paramaters\n",
    "params={'num_leaves': 31,\n",
    "        'max_depth': 15,\n",
    "        'learning_rate': 0.03,\n",
    "        'n_estimators': 1200,\n",
    "        'num_leaves': 31,\n",
    "        'verbose': 100,\n",
    "        \"subsample\": 0.9,\n",
    "        \"colsample_bytree\": 0.9,\n",
    "        \"random_state\":42,\n",
    "        'lambda_l2': 0.02085548700474218,\n",
    "        'lambda_l1': 0.004107624022751344,\n",
    "        'bagging_fraction': 0.7934712636944741,\n",
    "        'feature_fraction': 0.686612409641711\n",
    "       }"
   ]
  },
  {
   "cell_type": "code",
   "execution_count": null,
   "metadata": {},
   "outputs": [],
   "source": [
    "# Initializing Variables\n",
    "sub_prd = np.zeros(tst_agg.shape[0])\n",
    "imp = pd.DataFrame()\n",
    "wgt_sum  = 0\n",
    "MSE = 0\n",
    "\n",
    "for n_fld, (trn_idx, vld_idx) in enumerate(flds):\n",
    "    #trn_idx = idx_tab.iloc[trn_num].index\n",
    "    #vld_idx = idx_tab.iloc[vld_num].index\n",
    "    trn_X, trn_y = trn_agg.loc[trn_idx], tgt_agg.loc[trn_idx]\n",
    "    vld_X, vld_y = trn_agg.loc[vld_idx], tgt_agg.loc[vld_idx]\n",
    "\n",
    "    lgb = LGBMRegressor(**params)\n",
    "    \n",
    "    # Fit the model\n",
    "    lgb.fit(trn_X, trn_y)\n",
    "    \n",
    "    # applying the model to the validation data\n",
    "    vld_prd = lgb.predict(vld_X)\n",
    "    vld_prd[vld_prd < 0] = 0\n",
    "    # Calculating and outputting the RMSE\n",
    "    fld_MSE = mean_squared_error(vld_y, vld_prd)\n",
    "    print('Fold %2d RMSE : %.6f' % (n_fld + 1, np.sqrt(fld_MSE)))\n",
    "    \n",
    "    # Summing mean squared errors\n",
    "    MSE += fld_MSE/5\n",
    "    wgt_sum += 1/np.sqrt(fld_MSE) \n",
    "    \n",
    "    # Applying predictions\n",
    "    prd = lgb.predict(tst_agg)\n",
    "    prd[prd < 0] = 0\n",
    "    sub_prd += prd/np.sqrt(fld_MSE)\n",
    "    \n",
    "    # Calculating the fold importance\n",
    "    imp_df = pd.DataFrame()\n",
    "    imp_df['fts'] = trn_X.columns\n",
    "    imp_df['imp'] = lgb.booster_.feature_importance(importance_type='gain')\n",
    "    \n",
    "    # Summing the fold importances\n",
    "    imp_df['fld'] = n_fld+1\n",
    "    imp = pd.concat([imp, imp_df], axis=0, sort=False)\n",
    "\n",
    "np.sqrt(MSE)\n",
    "# Full = 1.5992181821979747 LB = 1.4378\n",
    "# Full = 1.5990424003087966 LB = 1.4295"
   ]
  },
  {
   "cell_type": "code",
   "execution_count": null,
   "metadata": {},
   "outputs": [],
   "source": [
    "# Ploting stage 2 feature importances\n",
    "cols = imp[[\"fts\", \"imp\"]].groupby(\"fts\").mean().sort_values(by=\"imp\", ascending=False)[:80].index\n",
    "imp['log1p_imp'] = np.log1p(imp['imp'])\n",
    "best_features = imp.loc[imp.fts.isin(cols)]\n",
    "plt.figure(figsize=(8, 14))\n",
    "sns.barplot(x=\"log1p_imp\", y=\"fts\", data=best_features.sort_values(by=\"imp\", ascending=False))\n",
    "plt.title('Features (avg over folds)')"
   ]
  },
  {
   "cell_type": "code",
   "execution_count": null,
   "metadata": {},
   "outputs": [],
   "source": [
    "tst_agg['predictedLogRevenue'] = sub_prd/wgt_sum\n",
    "tst_agg['predictedLogRevenue'].to_csv('submission.csv', header = True, index = True)"
   ]
  },
  {
   "cell_type": "code",
   "execution_count": null,
   "metadata": {},
   "outputs": [],
   "source": []
  }
 ],
 "metadata": {
  "kernelspec": {
   "display_name": "Python 3",
   "language": "python",
   "name": "python3"
  },
  "language_info": {
   "codemirror_mode": {
    "name": "ipython",
    "version": 3
   },
   "file_extension": ".py",
   "mimetype": "text/x-python",
   "name": "python",
   "nbconvert_exporter": "python",
   "pygments_lexer": "ipython3",
   "version": "3.6.5"
  }
 },
 "nbformat": 4,
 "nbformat_minor": 2
}
